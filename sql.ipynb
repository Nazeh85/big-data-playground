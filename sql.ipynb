{
 "cells": [
  {
   "cell_type": "code",
   "execution_count": 36,
   "metadata": {},
   "outputs": [],
   "source": [
    "import sqlite3\n",
    "import pandas as pd"
   ]
  },
  {
   "cell_type": "code",
   "execution_count": 37,
   "metadata": {},
   "outputs": [],
   "source": [
    "DATA_DIR = 'data/'"
   ]
  },
  {
   "cell_type": "code",
   "execution_count": 46,
   "metadata": {},
   "outputs": [],
   "source": [
    "conn = sqlite3.connect('test.db')\n",
    "cur = conn.cursor()"
   ]
  },
  {
   "cell_type": "code",
   "execution_count": 39,
   "metadata": {},
   "outputs": [],
   "source": [
    "cur.execute('''\n",
    "                CREATE TABLE IF NOT EXISTS temperatures (\n",
    "                    id INTEGER PRIMARY KEY AUTOINCREMENT,\n",
    "                    timestamp TEXT,\n",
    "                    temperature REAL\n",
    "                )\n",
    "            ''')\n",
    "conn.commit()"
   ]
  },
  {
   "cell_type": "code",
   "execution_count": 40,
   "metadata": {},
   "outputs": [
    {
     "name": "stderr",
     "output_type": "stream",
     "text": [
      "/var/folders/pg/6tvtzc815214nstb4nc45dcw0000gn/T/ipykernel_5484/36791995.py:1: DtypeWarning: Columns (5) have mixed types. Specify dtype option on import or set low_memory=False.\n",
      "  data = pd.read_csv(DATA_DIR + 'temp-uppsala.csv', sep=\";\", skiprows=10)\n"
     ]
    },
    {
     "data": {
      "text/html": [
       "<div>\n",
       "<style scoped>\n",
       "    .dataframe tbody tr th:only-of-type {\n",
       "        vertical-align: middle;\n",
       "    }\n",
       "\n",
       "    .dataframe tbody tr th {\n",
       "        vertical-align: top;\n",
       "    }\n",
       "\n",
       "    .dataframe thead th {\n",
       "        text-align: right;\n",
       "    }\n",
       "</style>\n",
       "<table border=\"1\" class=\"dataframe\">\n",
       "  <thead>\n",
       "    <tr style=\"text-align: right;\">\n",
       "      <th></th>\n",
       "      <th>DatumTid</th>\n",
       "      <th>Lufttemperatur</th>\n",
       "    </tr>\n",
       "  </thead>\n",
       "  <tbody>\n",
       "    <tr>\n",
       "      <th>0</th>\n",
       "      <td>1985-06-01 00:00:00</td>\n",
       "      <td>6.5</td>\n",
       "    </tr>\n",
       "    <tr>\n",
       "      <th>1</th>\n",
       "      <td>1985-06-01 03:00:00</td>\n",
       "      <td>5.7</td>\n",
       "    </tr>\n",
       "    <tr>\n",
       "      <th>2</th>\n",
       "      <td>1985-06-01 06:00:00</td>\n",
       "      <td>14.3</td>\n",
       "    </tr>\n",
       "    <tr>\n",
       "      <th>3</th>\n",
       "      <td>1985-06-01 09:00:00</td>\n",
       "      <td>20.5</td>\n",
       "    </tr>\n",
       "    <tr>\n",
       "      <th>4</th>\n",
       "      <td>1985-06-01 12:00:00</td>\n",
       "      <td>22.8</td>\n",
       "    </tr>\n",
       "    <tr>\n",
       "      <th>...</th>\n",
       "      <td>...</td>\n",
       "      <td>...</td>\n",
       "    </tr>\n",
       "    <tr>\n",
       "      <th>319228</th>\n",
       "      <td>2024-02-01 02:00:00</td>\n",
       "      <td>3.3</td>\n",
       "    </tr>\n",
       "    <tr>\n",
       "      <th>319229</th>\n",
       "      <td>2024-02-01 03:00:00</td>\n",
       "      <td>3.2</td>\n",
       "    </tr>\n",
       "    <tr>\n",
       "      <th>319230</th>\n",
       "      <td>2024-02-01 04:00:00</td>\n",
       "      <td>3.0</td>\n",
       "    </tr>\n",
       "    <tr>\n",
       "      <th>319231</th>\n",
       "      <td>2024-02-01 05:00:00</td>\n",
       "      <td>2.7</td>\n",
       "    </tr>\n",
       "    <tr>\n",
       "      <th>319232</th>\n",
       "      <td>2024-02-01 06:00:00</td>\n",
       "      <td>2.5</td>\n",
       "    </tr>\n",
       "  </tbody>\n",
       "</table>\n",
       "<p>319233 rows × 2 columns</p>\n",
       "</div>"
      ],
      "text/plain": [
       "                   DatumTid  Lufttemperatur\n",
       "0       1985-06-01 00:00:00             6.5\n",
       "1       1985-06-01 03:00:00             5.7\n",
       "2       1985-06-01 06:00:00            14.3\n",
       "3       1985-06-01 09:00:00            20.5\n",
       "4       1985-06-01 12:00:00            22.8\n",
       "...                     ...             ...\n",
       "319228  2024-02-01 02:00:00             3.3\n",
       "319229  2024-02-01 03:00:00             3.2\n",
       "319230  2024-02-01 04:00:00             3.0\n",
       "319231  2024-02-01 05:00:00             2.7\n",
       "319232  2024-02-01 06:00:00             2.5\n",
       "\n",
       "[319233 rows x 2 columns]"
      ]
     },
     "execution_count": 40,
     "metadata": {},
     "output_type": "execute_result"
    }
   ],
   "source": [
    "data = pd.read_csv(DATA_DIR + 'temp-uppsala.csv', sep=\";\", skiprows=10)\n",
    "data['DatumTid'] = data['Datum'] + ' ' + data['Tid (UTC)']\n",
    "\n",
    "data = data[['DatumTid', 'Lufttemperatur']]\n",
    "\n",
    "data"
   ]
  },
  {
   "cell_type": "code",
   "execution_count": 41,
   "metadata": {},
   "outputs": [],
   "source": [
    "for row in data.itertuples():\n",
    "    # print(row[1], row[2])\n",
    "    cur.execute('''\n",
    "                    INSERT INTO temperatures (timestamp, temperature)\n",
    "                    VALUES (?, ?)\n",
    "                ''', (row[1], row[2]))\n",
    "    # f\"\"\"INSERT INTO temperatures (timestamp, temperature) VALUES ('{row[1]}', {row[2]})\"\"\"\n",
    "    # elak_row1 = \"'); DROP TABLE temperatures; --\"\n",
    "    # break"
   ]
  },
  {
   "cell_type": "code",
   "execution_count": 42,
   "metadata": {},
   "outputs": [],
   "source": [
    "conn.commit()"
   ]
  },
  {
   "cell_type": "code",
   "execution_count": 55,
   "metadata": {},
   "outputs": [
    {
     "name": "stdout",
     "output_type": "stream",
     "text": [
      "(2.5, 3.3)\n"
     ]
    }
   ],
   "source": [
    "# cur.execute('SELECT * FROM temperatures WHERE temperature > 30')\n",
    "# user = cur.fetchone()\n",
    "\n",
    "for row in cur.execute(\"SELECT MIN(temperature), MAX(temperature) FROM temperatures WHERE timestamp > '2024-02-01 00:00:00'\"):\n",
    "    print(row)"
   ]
  },
  {
   "cell_type": "code",
   "execution_count": 44,
   "metadata": {},
   "outputs": [],
   "source": [
    "# conn.close()"
   ]
  }
 ],
 "metadata": {
  "kernelspec": {
   "display_name": ".venv",
   "language": "python",
   "name": "python3"
  },
  "language_info": {
   "codemirror_mode": {
    "name": "ipython",
    "version": 3
   },
   "file_extension": ".py",
   "mimetype": "text/x-python",
   "name": "python",
   "nbconvert_exporter": "python",
   "pygments_lexer": "ipython3",
   "version": "3.11.0"
  }
 },
 "nbformat": 4,
 "nbformat_minor": 2
}
